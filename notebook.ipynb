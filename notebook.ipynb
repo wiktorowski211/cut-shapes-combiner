{
 "cells": [
  {
   "cell_type": "code",
   "execution_count": 1,
   "metadata": {},
   "outputs": [],
   "source": [
    "import numpy as np\n",
    "\n",
    "from scipy.spatial.distance import euclidean\n",
    "\n",
    "from skimage.io import imread\n",
    "from skimage.filters import threshold_otsu\n",
    "from skimage.feature import canny\n",
    "from skimage.transform import probabilistic_hough_line, rotate, resize\n",
    "from skimage.morphology import skeletonize\n",
    "\n",
    "THRESHOLD = 150"
   ]
  },
  {
   "cell_type": "code",
   "execution_count": 2,
   "metadata": {},
   "outputs": [],
   "source": [
    "def is_upside_down(image, line):\n",
    "    (x1, y1), (x2, y2) = line\n",
    "    y = int(np.round((y1 + y2) / 2))\n",
    "    x = int(np.round((x1 + x2) / 2))\n",
    "\n",
    "    image_with_border = np.pad(image, pad_width=10, mode='constant', constant_values=0.0)\n",
    "\n",
    "    up = image_with_border[y, x + 10]\n",
    "    down = image_with_border[y + 20, x + 10]\n",
    "\n",
    "    up_value = up < THRESHOLD\n",
    "    down_value = down > THRESHOLD\n",
    "\n",
    "    return up_value and down_value"
   ]
  },
  {
   "cell_type": "code",
   "execution_count": 3,
   "metadata": {},
   "outputs": [],
   "source": [
    "def get_rotation_for_vertical(image, line):\n",
    "    (x1, y1), (x2, y2) = line\n",
    "    y = int(np.round((y1 + y2) / 2))\n",
    "    x = int(np.round((x1 + x2) / 2))\n",
    "\n",
    "    image_with_border = np.pad(image, pad_width=10, mode='constant', constant_values=0.0)\n",
    "\n",
    "    left = image_with_border[y + 10, x]\n",
    "    right = image_with_border[y + 10, x + 20]\n",
    "\n",
    "    left_value = left < THRESHOLD\n",
    "    right_value = right > THRESHOLD\n",
    "\n",
    "    if left_value and right_value:\n",
    "        return 90.0\n",
    "    else:\n",
    "        return -90.0"
   ]
  },
  {
   "cell_type": "code",
   "execution_count": 4,
   "metadata": {},
   "outputs": [],
   "source": [
    "def get_line(image):\n",
    "    thresh = threshold_otsu(image)\n",
    "    normalize = image > thresh\n",
    "\n",
    "    edges = canny(normalize, 0, 1, 1)\n",
    "\n",
    "    min_line_length = int(image.shape[0] / 2)\n",
    "\n",
    "    lines = []\n",
    "    while not lines:\n",
    "        min_line_length = int(min_line_length * 0.9)\n",
    "        lines = probabilistic_hough_line(edges, seed=16, line_length=min_line_length, line_gap=3)\n",
    "\n",
    "    longest_line = None\n",
    "    longest_line_distance = 0.0\n",
    "\n",
    "    for line in lines:\n",
    "        point_a, point_b = line\n",
    "        distance = euclidean(point_a, point_b)\n",
    "\n",
    "        if longest_line_distance < distance:\n",
    "            longest_line = line\n",
    "            longest_line_distance = distance\n",
    "\n",
    "    return longest_line"
   ]
  },
  {
   "cell_type": "code",
   "execution_count": 5,
   "metadata": {},
   "outputs": [],
   "source": [
    "def get_rotation(image):\n",
    "    line = get_line(image)\n",
    "    (x1, y1), (x2, y2) = line\n",
    "\n",
    "    slope = (y2 - y1) / (x2 - x1) if (x2 - x1) else 0\n",
    "\n",
    "    rad_angle = np.arctan(slope)\n",
    "    rotation = np.degrees(rad_angle)\n",
    "\n",
    "    if x1 == x2:\n",
    "        rotation += get_rotation_for_vertical(image, line)\n",
    "    elif is_upside_down(image, line):\n",
    "        rotation += 180.0\n",
    "\n",
    "    return rotation"
   ]
  },
  {
   "cell_type": "code",
   "execution_count": 6,
   "metadata": {},
   "outputs": [],
   "source": [
    "def rotate_image(image):\n",
    "    rotation = get_rotation(image)\n",
    "    rotated = rotate(image, rotation, resize=True)\n",
    "    return rotated"
   ]
  },
  {
   "cell_type": "code",
   "execution_count": 7,
   "metadata": {},
   "outputs": [],
   "source": [
    "def trim_image(image):\n",
    "    trimmed = image[:, ~np.all(image < 1.0, axis=0)]\n",
    "    trimmed = trimmed[~np.all(trimmed < 1.0, axis=1)]\n",
    "    trimmed = trimmed[~np.all(trimmed > 0.0, axis=1)]\n",
    "    return trimmed"
   ]
  },
  {
   "cell_type": "code",
   "execution_count": 8,
   "metadata": {},
   "outputs": [],
   "source": [
    "def resize_image(image):\n",
    "    ratio = 200 / image.shape[1]\n",
    "\n",
    "    x_size = int(np.round(image.shape[0] * ratio))\n",
    "    y_size = int(np.round(image.shape[1] * ratio))\n",
    "\n",
    "    resized = resize(image, (x_size, y_size), anti_aliasing=False)\n",
    "    return resized"
   ]
  },
  {
   "cell_type": "code",
   "execution_count": 9,
   "metadata": {},
   "outputs": [],
   "source": [
    "def binarize_image(image):\n",
    "    binary = image.copy()\n",
    "    binary[binary > 0.5] = 1.0\n",
    "    binary[binary <= 0.5] = 0.0\n",
    "    return binary"
   ]
  },
  {
   "cell_type": "code",
   "execution_count": 10,
   "metadata": {},
   "outputs": [],
   "source": [
    "def approximate_values(image, bins=5):\n",
    "    max_value = image.shape[0]\n",
    "    previous_value = max_value\n",
    "    values = []\n",
    "\n",
    "    for i in range(image.shape[1]):\n",
    "        column = image[:, i]\n",
    "\n",
    "        if np.any(column):\n",
    "            current_value = max_value - np.argmax(column)\n",
    "        else:\n",
    "            current_value = previous_value\n",
    "\n",
    "        values.append(current_value)\n",
    "\n",
    "        previous_value = current_value\n",
    "\n",
    "    chunks = np.array_split(values, bins)\n",
    "\n",
    "    approximated_values = []\n",
    "    inverted_approximated_values = []\n",
    "\n",
    "    for chunk in chunks:\n",
    "        median = np.median(chunk)\n",
    "\n",
    "        approximated_values.append(median)\n",
    "        inverted_approximated_values.append(max_value - median)\n",
    "\n",
    "    inverted_approximated_values.reverse()\n",
    "\n",
    "    return approximated_values, inverted_approximated_values"
   ]
  },
  {
   "cell_type": "code",
   "execution_count": 11,
   "metadata": {},
   "outputs": [],
   "source": [
    "def get_image_characteristic(set_number, image_number):\n",
    "    image = imread(f'test_sets/set{set_number}/{image_number}.png')\n",
    "\n",
    "    rotated = rotate_image(image)\n",
    "    trimmed = trim_image(rotated)\n",
    "    resized = resize_image(trimmed)\n",
    "    binary = binarize_image(resized)\n",
    "    edges = canny(binary, 0, 1, 1)\n",
    "    skeleton = skeletonize(edges)\n",
    "\n",
    "    approximated_values, inverted_approximated_values = approximate_values(skeleton, 8)\n",
    "\n",
    "    return approximated_values, inverted_approximated_values"
   ]
  },
  {
   "cell_type": "code",
   "execution_count": 12,
   "metadata": {},
   "outputs": [],
   "source": [
    "def get_images_characteristics(set_number, set_range):\n",
    "    characteristics = []\n",
    "\n",
    "    for image_number in range(set_range):\n",
    "        av, iav = get_image_characteristic(set_number, image_number)\n",
    "        characteristics.append((image_number, av, iav))\n",
    "\n",
    "    return characteristics"
   ]
  },
  {
   "cell_type": "code",
   "execution_count": 13,
   "metadata": {},
   "outputs": [],
   "source": [
    "def compare_characteristics(characteristics):\n",
    "    for characteristic in characteristics:\n",
    "        image_number, _, iav = characteristic\n",
    "\n",
    "        scores = {}\n",
    "\n",
    "        for comparison_characteristic in characteristics:\n",
    "            comparison_image_number, av, _ = comparison_characteristic\n",
    "\n",
    "            if image_number == comparison_image_number:\n",
    "                continue\n",
    "\n",
    "            score = 0\n",
    "            for i in range(len(iav)):\n",
    "                score += abs(iav[i] - av[i])\n",
    "            scores[comparison_image_number] = score\n",
    "\n",
    "        print(image_number, min(scores, key=scores.get))"
   ]
  },
  {
   "cell_type": "code",
   "execution_count": 14,
   "metadata": {},
   "outputs": [],
   "source": [
    "def test_set(set_number, set_range):\n",
    "    characteristics = get_images_characteristics(set_number, set_range)\n",
    "    compare_characteristics(characteristics)"
   ]
  },
  {
   "cell_type": "code",
   "execution_count": 15,
   "metadata": {},
   "outputs": [
    {
     "name": "stdout",
     "output_type": "stream",
     "text": [
      "0 6\n",
      "1 4\n",
      "2 15\n",
      "3 17\n",
      "4 1\n",
      "5 12\n",
      "6 0\n",
      "7 14\n",
      "8 11\n",
      "9 19\n",
      "10 16\n",
      "11 8\n",
      "12 5\n",
      "13 18\n",
      "14 7\n",
      "15 2\n",
      "16 10\n",
      "17 3\n",
      "18 13\n",
      "19 9\n"
     ]
    }
   ],
   "source": [
    "test_set(1, 20)"
   ]
  },
  {
   "cell_type": "code",
   "execution_count": null,
   "metadata": {},
   "outputs": [],
   "source": []
  }
 ],
 "metadata": {
  "kernelspec": {
   "display_name": "Python 3",
   "language": "python",
   "name": "python3"
  },
  "language_info": {
   "codemirror_mode": {
    "name": "ipython",
    "version": 3
   },
   "file_extension": ".py",
   "mimetype": "text/x-python",
   "name": "python",
   "nbconvert_exporter": "python",
   "pygments_lexer": "ipython3",
   "version": "3.7.6"
  }
 },
 "nbformat": 4,
 "nbformat_minor": 4
}
