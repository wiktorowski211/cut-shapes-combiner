{
 "cells": [
  {
   "cell_type": "code",
   "execution_count": 56,
   "metadata": {},
   "outputs": [],
   "source": [
    "import numpy as np\n",
    "\n",
    "from scipy.spatial.distance import euclidean\n",
    "\n",
    "from skimage.io import imread\n",
    "from skimage.filters import threshold_otsu\n",
    "from skimage.feature import canny\n",
    "from skimage.transform import probabilistic_hough_line, rotate, resize\n",
    "from skimage.morphology import skeletonize\n",
    "\n",
    "THRESHOLD = 150\n",
    "SET_RANGES = [6, 20, 20, 20, 20, 200, 200, 20, 100]"
   ]
  },
  {
   "cell_type": "code",
   "execution_count": 57,
   "metadata": {},
   "outputs": [],
   "source": [
    "def is_upside_down(image, line):\n",
    "    (x1, y1), (x2, y2) = line\n",
    "    y = int(np.round((y1 + y2) / 2))\n",
    "    x = int(np.round((x1 + x2) / 2))\n",
    "\n",
    "    image_with_border = np.pad(image, pad_width=10, mode='constant', constant_values=0.0)\n",
    "\n",
    "    up = image_with_border[y, x + 10]\n",
    "    down = image_with_border[y + 20, x + 10]\n",
    "\n",
    "    up_value = up < THRESHOLD\n",
    "    down_value = down > THRESHOLD\n",
    "\n",
    "    return up_value and down_value"
   ]
  },
  {
   "cell_type": "code",
   "execution_count": 58,
   "metadata": {},
   "outputs": [],
   "source": [
    "def get_rotation_for_vertical(image, line):\n",
    "    (x1, y1), (x2, y2) = line\n",
    "    y = int(np.round((y1 + y2) / 2))\n",
    "    x = int(np.round((x1 + x2) / 2))\n",
    "\n",
    "    image_with_border = np.pad(image, pad_width=10, mode='constant', constant_values=0.0)\n",
    "\n",
    "    left = image_with_border[y + 10, x]\n",
    "    right = image_with_border[y + 10, x + 20]\n",
    "\n",
    "    left_value = left < THRESHOLD\n",
    "    right_value = right > THRESHOLD\n",
    "\n",
    "    if left_value and right_value:\n",
    "        return 90.0\n",
    "    else:\n",
    "        return -90.0"
   ]
  },
  {
   "cell_type": "code",
   "execution_count": 59,
   "metadata": {},
   "outputs": [],
   "source": [
    "def get_line(image):\n",
    "    thresh = threshold_otsu(image)\n",
    "    normalize = image > thresh\n",
    "\n",
    "    edges = canny(normalize, 0, 1, 1)\n",
    "\n",
    "    min_line_length = int(image.shape[0] / 2)\n",
    "\n",
    "    lines = []\n",
    "    while not lines:\n",
    "        min_line_length = int(min_line_length * 0.9)\n",
    "        lines = probabilistic_hough_line(edges, seed=16, line_length=min_line_length, line_gap=3)\n",
    "\n",
    "    longest_line = None\n",
    "    longest_line_distance = 0.0\n",
    "\n",
    "    for line in lines:\n",
    "        point_a, point_b = line\n",
    "        distance = euclidean(point_a, point_b)\n",
    "\n",
    "        if longest_line_distance < distance:\n",
    "            longest_line = line\n",
    "            longest_line_distance = distance\n",
    "\n",
    "    return longest_line"
   ]
  },
  {
   "cell_type": "code",
   "execution_count": 60,
   "metadata": {},
   "outputs": [],
   "source": [
    "def get_rotation(image):\n",
    "    line = get_line(image)\n",
    "    (x1, y1), (x2, y2) = line\n",
    "\n",
    "    slope = (y2 - y1) / (x2 - x1) if (x2 - x1) else 0\n",
    "\n",
    "    rad_angle = np.arctan(slope)\n",
    "    rotation = np.degrees(rad_angle)\n",
    "\n",
    "    if x1 == x2:\n",
    "        rotation += get_rotation_for_vertical(image, line)\n",
    "    elif is_upside_down(image, line):\n",
    "        rotation += 180.0\n",
    "\n",
    "    return rotation"
   ]
  },
  {
   "cell_type": "code",
   "execution_count": 61,
   "metadata": {},
   "outputs": [],
   "source": [
    "def rotate_image(image):\n",
    "    rotation = get_rotation(image)\n",
    "    rotated = rotate(image, rotation, resize=True)\n",
    "    return rotated"
   ]
  },
  {
   "cell_type": "code",
   "execution_count": 62,
   "metadata": {},
   "outputs": [],
   "source": [
    "def trim_image(image):\n",
    "    trimmed = image[:, ~np.all(image < 1.0, axis=0)]\n",
    "    trimmed = trimmed[~np.all(trimmed < 1.0, axis=1)]\n",
    "    trimmed = trimmed[~np.all(trimmed > 0.0, axis=1)]\n",
    "    return trimmed"
   ]
  },
  {
   "cell_type": "code",
   "execution_count": 63,
   "metadata": {},
   "outputs": [],
   "source": [
    "def resize_image(image):\n",
    "    ratio = 200 / image.shape[1]\n",
    "\n",
    "    x_size = int(np.round(image.shape[0] * ratio))\n",
    "    y_size = int(np.round(image.shape[1] * ratio))\n",
    "\n",
    "    resized = resize(image, (x_size, y_size), anti_aliasing=False)\n",
    "    return resized"
   ]
  },
  {
   "cell_type": "code",
   "execution_count": 64,
   "metadata": {},
   "outputs": [],
   "source": [
    "def binarize_image(image):\n",
    "    binary = image.copy()\n",
    "    binary[binary > 0.5] = 1.0\n",
    "    binary[binary <= 0.5] = 0.0\n",
    "    return binary"
   ]
  },
  {
   "cell_type": "code",
   "execution_count": 65,
   "metadata": {},
   "outputs": [],
   "source": [
    "def approximate_values(image, bins=5):\n",
    "    max_value = image.shape[0]\n",
    "    previous_value = max_value\n",
    "    values = []\n",
    "\n",
    "    for i in range(image.shape[1]):\n",
    "        column = image[:, i]\n",
    "\n",
    "        if np.any(column):\n",
    "            current_value = max_value - np.argmax(column)\n",
    "        else:\n",
    "            current_value = previous_value\n",
    "\n",
    "        values.append(current_value)\n",
    "\n",
    "        previous_value = current_value\n",
    "\n",
    "    chunks = np.array_split(values, bins)\n",
    "\n",
    "    approximated_values = []\n",
    "    inverted_approximated_values = []\n",
    "\n",
    "    for chunk in chunks:\n",
    "        median = np.median(chunk)\n",
    "\n",
    "        approximated_values.append(median)\n",
    "        inverted_approximated_values.append(max_value - median)\n",
    "\n",
    "    inverted_approximated_values.reverse()\n",
    "\n",
    "    return approximated_values, inverted_approximated_values"
   ]
  },
  {
   "cell_type": "code",
   "execution_count": 66,
   "metadata": {},
   "outputs": [],
   "source": [
    "def get_image_characteristic(set_number, image_number):\n",
    "    image = imread(f'test_sets/set{set_number}/{image_number}.png')\n",
    "\n",
    "    rotated = rotate_image(image)\n",
    "    trimmed = trim_image(rotated)\n",
    "    resized = resize_image(trimmed)\n",
    "    binary = binarize_image(resized)\n",
    "    edges = canny(binary, 0, 1, 1)\n",
    "    skeleton = skeletonize(edges)\n",
    "\n",
    "    approximated_values, inverted_approximated_values = approximate_values(skeleton, 8)\n",
    "\n",
    "    return approximated_values, inverted_approximated_values"
   ]
  },
  {
   "cell_type": "code",
   "execution_count": 67,
   "metadata": {},
   "outputs": [],
   "source": [
    "def get_images_characteristics(set_number):\n",
    "    characteristics = []\n",
    "    set_range = SET_RANGES[set_number]\n",
    "\n",
    "    for image_number in range(set_range):\n",
    "        av, iav = get_image_characteristic(set_number, image_number)\n",
    "        characteristics.append((image_number, av, iav))\n",
    "\n",
    "    return characteristics"
   ]
  },
  {
   "cell_type": "code",
   "execution_count": 68,
   "metadata": {},
   "outputs": [],
   "source": [
    "def compare_characteristics(characteristics):\n",
    "    results = []\n",
    "    for characteristic in characteristics:\n",
    "        image_number, av, iav = characteristic\n",
    "\n",
    "        scores = {}\n",
    "\n",
    "        for comparison_characteristic in characteristics:\n",
    "            comparison_image_number, cav, _ = comparison_characteristic\n",
    "\n",
    "            if image_number == comparison_image_number:\n",
    "                continue\n",
    "\n",
    "            score = 0\n",
    "            for i in range(len(iav)):\n",
    "                score += abs(iav[i] - cav[i])\n",
    "            scores[comparison_image_number] = score\n",
    "            \n",
    "        results.append(min(scores, key=scores.get))\n",
    "    return results"
   ]
  },
  {
   "cell_type": "code",
   "execution_count": 69,
   "metadata": {},
   "outputs": [],
   "source": [
    "def get_correct_results(set_number):\n",
    "    with open(f'test_sets/set{set_number}/correct.txt', \"r\") as file:\n",
    "        lines = file.readlines()\n",
    "\n",
    "        result = []\n",
    "        for line in lines:\n",
    "            result.append(int(line))\n",
    "\n",
    "        return result"
   ]
  },
  {
   "cell_type": "code",
   "execution_count": 70,
   "metadata": {},
   "outputs": [],
   "source": [
    "def compare_results(results, correct_results):\n",
    "    correct = 0\n",
    "    results_number = len(correct_results)\n",
    "\n",
    "    incorrect_ids = []\n",
    "\n",
    "    for i in range(results_number):\n",
    "        if results[i] == correct_results[i]:\n",
    "            correct += 1\n",
    "        else:\n",
    "            incorrect_ids.append(i)\n",
    "    return correct, results_number, incorrect_ids"
   ]
  },
  {
   "cell_type": "code",
   "execution_count": 71,
   "metadata": {},
   "outputs": [],
   "source": [
    "def test_set(set_number):\n",
    "    characteristics = get_images_characteristics(set_number)\n",
    "\n",
    "    results = compare_characteristics(characteristics)\n",
    "    correct_results = get_correct_results(set_number)\n",
    "\n",
    "    correct, results_number, incorrect_ids = compare_results(results, correct_results)\n",
    "\n",
    "    print(f\"Set number {set_number}\")\n",
    "    print(f\"Score: {correct}/{results_number}\")\n",
    "    print(\"Incorrect ids:\", incorrect_ids)\n",
    "    print()"
   ]
  },
  {
   "cell_type": "code",
   "execution_count": 72,
   "metadata": {},
   "outputs": [],
   "source": [
    "def test_sets(sets_range):\n",
    "    for set_number in range(sets_range):\n",
    "        test_set(set_number)"
   ]
  },
  {
   "cell_type": "code",
   "execution_count": 73,
   "metadata": {},
   "outputs": [
    {
     "name": "stdout",
     "output_type": "stream",
     "text": [
      "Set number 0\n",
      "Score: 6/6\n",
      "Incorrect ids: []\n",
      "\n",
      "Set number 1\n",
      "Score: 20/20\n",
      "Incorrect ids: []\n",
      "\n",
      "Set number 2\n",
      "Score: 20/20\n",
      "Incorrect ids: []\n",
      "\n",
      "Set number 3\n",
      "Score: 20/20\n",
      "Incorrect ids: []\n",
      "\n",
      "Set number 4\n",
      "Score: 20/20\n",
      "Incorrect ids: []\n",
      "\n",
      "Set number 5\n",
      "Score: 172/200\n",
      "Incorrect ids: [0, 1, 3, 5, 15, 29, 33, 42, 65, 71, 81, 95, 96, 98, 99, 103, 108, 124, 134, 154, 155, 159, 170, 180, 185, 187, 188, 194]\n",
      "\n",
      "Set number 6\n",
      "Score: 173/200\n",
      "Incorrect ids: [5, 19, 20, 40, 42, 58, 59, 61, 82, 92, 96, 97, 103, 104, 115, 119, 129, 135, 144, 152, 159, 160, 166, 171, 186, 190, 193]\n",
      "\n",
      "Set number 7\n",
      "Score: 3/20\n",
      "Incorrect ids: [0, 1, 3, 4, 5, 7, 8, 9, 11, 12, 13, 14, 15, 16, 17, 18, 19]\n",
      "\n",
      "Set number 8\n",
      "Score: 12/100\n",
      "Incorrect ids: [0, 1, 3, 4, 5, 6, 7, 8, 9, 11, 12, 13, 14, 15, 16, 17, 18, 19, 20, 21, 22, 23, 24, 25, 26, 27, 28, 29, 30, 31, 34, 35, 36, 37, 40, 41, 42, 43, 44, 47, 48, 49, 50, 51, 52, 53, 55, 56, 57, 58, 59, 60, 61, 62, 64, 65, 66, 68, 69, 70, 71, 72, 73, 74, 75, 76, 77, 78, 79, 80, 81, 82, 83, 84, 85, 86, 87, 88, 89, 90, 91, 92, 94, 95, 96, 97, 98, 99]\n",
      "\n"
     ]
    }
   ],
   "source": [
    "test_sets(9)"
   ]
  },
  {
   "cell_type": "code",
   "execution_count": null,
   "metadata": {},
   "outputs": [],
   "source": []
  }
 ],
 "metadata": {
  "kernelspec": {
   "display_name": "Python 3",
   "language": "python",
   "name": "python3"
  },
  "language_info": {
   "codemirror_mode": {
    "name": "ipython",
    "version": 3
   },
   "file_extension": ".py",
   "mimetype": "text/x-python",
   "name": "python",
   "nbconvert_exporter": "python",
   "pygments_lexer": "ipython3",
   "version": "3.7.6"
  }
 },
 "nbformat": 4,
 "nbformat_minor": 4
}
